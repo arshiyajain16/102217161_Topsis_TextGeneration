{
  "nbformat": 4,
  "nbformat_minor": 0,
  "metadata": {
    "colab": {
      "provenance": []
    },
    "kernelspec": {
      "name": "python3",
      "display_name": "Python 3"
    },
    "language_info": {
      "name": "python"
    }
  },
  "cells": [
    {
      "cell_type": "code",
      "execution_count": 1,
      "metadata": {
        "id": "c0DfG8mtY6oI"
      },
      "outputs": [],
      "source": [
        "import numpy as np\n",
        "import pandas as pd\n",
        "import matplotlib.pyplot as plt\n",
        "from sklearn.preprocessing import StandardScaler"
      ]
    },
    {
      "cell_type": "code",
      "source": [
        "data = {\n",
        "    'Model': ['DialoGPT', 'BlenderBot', 'ChatGPT-Turbo', 'Mistral', 'Gemini Nano'],\n",
        "    'BLEU Score': [30, 35, 40, 38, 36],\n",
        "    'Diversity Score': [0.75, 0.78, 0.80, 0.77, 0.79],\n",
        "    'Latency (ms)': [120, 150, 100, 110, 130],\n",
        "    'Parameter Size (GB)': [6.5, 8.0, 12.0, 10.5, 7.8]\n",
        "}\n",
        "\n",
        "df = pd.DataFrame(data)\n",
        "print(\"Dataset:\")\n",
        "print(df)\n"
      ],
      "metadata": {
        "colab": {
          "base_uri": "https://localhost:8080/"
        },
        "id": "Xa0_1BAyZC9a",
        "outputId": "046e7643-8f29-4918-c629-d80656491734"
      },
      "execution_count": 2,
      "outputs": [
        {
          "output_type": "stream",
          "name": "stdout",
          "text": [
            "Dataset:\n",
            "           Model  BLEU Score  Diversity Score  Latency (ms)  \\\n",
            "0       DialoGPT          30             0.75           120   \n",
            "1     BlenderBot          35             0.78           150   \n",
            "2  ChatGPT-Turbo          40             0.80           100   \n",
            "3        Mistral          38             0.77           110   \n",
            "4    Gemini Nano          36             0.79           130   \n",
            "\n",
            "   Parameter Size (GB)  \n",
            "0                  6.5  \n",
            "1                  8.0  \n",
            "2                 12.0  \n",
            "3                 10.5  \n",
            "4                  7.8  \n"
          ]
        }
      ]
    },
    {
      "cell_type": "code",
      "source": [
        "weights = np.array([1, 1, -1, -1])"
      ],
      "metadata": {
        "id": "U0ELA-KJZEKY"
      },
      "execution_count": 3,
      "outputs": []
    },
    {
      "cell_type": "code",
      "source": [
        "scaler = StandardScaler()\n",
        "normalized_data = scaler.fit_transform(df.iloc[:, 1:])\n",
        "df_normalized = pd.DataFrame(normalized_data, columns=df.columns[1:], index=df['Model'])"
      ],
      "metadata": {
        "id": "IAiJjlsYZIaA"
      },
      "execution_count": 4,
      "outputs": []
    },
    {
      "cell_type": "code",
      "source": [
        "weighted_normalized_data = normalized_data * weights\n",
        "df_weighted_normalized = pd.DataFrame(weighted_normalized_data, columns=df.columns[1:], index=df['Model'])"
      ],
      "metadata": {
        "id": "1tb3MF8vZQVz"
      },
      "execution_count": 5,
      "outputs": []
    },
    {
      "cell_type": "code",
      "source": [
        "ideal_best = np.max(weighted_normalized_data, axis=0)\n",
        "ideal_worst = np.min(weighted_normalized_data, axis=0)"
      ],
      "metadata": {
        "id": "VBe0qUUQZQOb"
      },
      "execution_count": 6,
      "outputs": []
    },
    {
      "cell_type": "code",
      "source": [
        "dist_best = np.linalg.norm(weighted_normalized_data - ideal_best, axis=1)\n",
        "dist_worst = np.linalg.norm(weighted_normalized_data - ideal_worst, axis=1)"
      ],
      "metadata": {
        "id": "YTB-YeNEZQK-"
      },
      "execution_count": 7,
      "outputs": []
    },
    {
      "cell_type": "code",
      "source": [
        "topsis_scores = dist_worst / (dist_best + dist_worst)\n",
        "df['TOPSIS Score'] = topsis_scores\n"
      ],
      "metadata": {
        "id": "7cbaj1xMZQId"
      },
      "execution_count": 8,
      "outputs": []
    },
    {
      "cell_type": "code",
      "source": [
        "df['Rank'] = df['TOPSIS Score'].rank(ascending=False)\n",
        "print(\"\\nFinal Rankings:\")\n",
        "print(df.sort_values(by='Rank'))"
      ],
      "metadata": {
        "colab": {
          "base_uri": "https://localhost:8080/"
        },
        "id": "_6J2t5diZQFk",
        "outputId": "2c4442c2-19bb-456e-b083-1756c1a94ad1"
      },
      "execution_count": 9,
      "outputs": [
        {
          "output_type": "stream",
          "name": "stdout",
          "text": [
            "\n",
            "Final Rankings:\n",
            "           Model  BLEU Score  Diversity Score  Latency (ms)  \\\n",
            "2  ChatGPT-Turbo          40             0.80           100   \n",
            "4    Gemini Nano          36             0.79           130   \n",
            "3        Mistral          38             0.77           110   \n",
            "1     BlenderBot          35             0.78           150   \n",
            "0       DialoGPT          30             0.75           120   \n",
            "\n",
            "   Parameter Size (GB)  TOPSIS Score  Rank  \n",
            "2                 12.0      0.647904   1.0  \n",
            "4                  7.8      0.623995   2.0  \n",
            "3                 10.5      0.563966   3.0  \n",
            "1                  8.0      0.461879   4.0  \n",
            "0                  6.5      0.430503   5.0  \n"
          ]
        }
      ]
    },
    {
      "cell_type": "code",
      "source": [
        "plt.bar(df['Model'], df['TOPSIS Score'], color='blue')\n",
        "plt.xlabel('Model')\n",
        "plt.ylabel('TOPSIS Score')\n",
        "plt.title('TOPSIS Ranking of Dialogue Models')\n",
        "plt.show()\n"
      ],
      "metadata": {
        "colab": {
          "base_uri": "https://localhost:8080/",
          "height": 472
        },
        "id": "Z1GH2uZlZQCt",
        "outputId": "4680f287-9ac4-4855-b31f-6c31971f6e9c"
      },
      "execution_count": 10,
      "outputs": [
        {
          "output_type": "display_data",
          "data": {
            "text/plain": [
              "<Figure size 640x480 with 1 Axes>"
            ],
            "image/png": "[encoded data removed]"
          },
          "metadata": {}
        }
      ]
    }
  ]
}